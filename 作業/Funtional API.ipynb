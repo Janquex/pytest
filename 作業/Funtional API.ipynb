{
 "cells": [
  {
   "cell_type": "markdown",
   "metadata": {},
   "source": [
    "### 1. 載入所需套件"
   ]
  },
  {
   "cell_type": "code",
   "execution_count": 1,
   "metadata": {},
   "outputs": [],
   "source": [
    "import matplotlib.pyplot as plt\n",
    "import numpy as np\n",
    "\n",
    "# Layers for FNN\n",
    "from tensorflow.keras.models import Sequential\n",
    "from tensorflow.keras.layers import Dense\n",
    "from tensorflow.keras.layers import Flatten\n",
    "\n",
    "# Layers for CNN\n",
    "from tensorflow.keras.layers import Conv2D, MaxPool2D, GlobalAveragePooling2D\n",
    "from tensorflow.keras.optimizers import SGD, Adam\n",
    "\n",
    "# For data preprocessing\n",
    "from tensorflow.keras import datasets\n",
    "from tensorflow.keras.utils import to_categorical\n",
    "\n",
    "#Functional API\n",
    "from tensorflow.keras.models import Model\n",
    "from tensorflow.keras.layers import Input\n",
    "from tensorflow.keras.layers import concatenate, add"
   ]
  },
  {
   "cell_type": "markdown",
   "metadata": {},
   "source": [
    "### 2. 載入mnist資料"
   ]
  },
  {
   "cell_type": "code",
   "execution_count": 2,
   "metadata": {},
   "outputs": [],
   "source": [
    "#讀取Fashion mnist資料集\n",
    "\n",
    "(x_train, y_train), (x_test, y_test) =datasets.fashion_mnist.load_data()"
   ]
  },
  {
   "cell_type": "code",
   "execution_count": 3,
   "metadata": {},
   "outputs": [],
   "source": [
    "x_train = x_train.reshape(60000, 784)\n",
    "x_test = x_test.reshape(10000, 784)"
   ]
  },
  {
   "cell_type": "code",
   "execution_count": 4,
   "metadata": {},
   "outputs": [],
   "source": [
    "y_train = to_categorical(y_train, 10)\n",
    "y_test = to_categorical(y_test, 10)"
   ]
  },
  {
   "cell_type": "markdown",
   "metadata": {},
   "source": [
    "### 3. 設計類神經網路模型"
   ]
  },
  {
   "cell_type": "code",
   "execution_count": 5,
   "metadata": {},
   "outputs": [],
   "source": [
    "x = Input(shape=(784,))"
   ]
  },
  {
   "cell_type": "code",
   "execution_count": 6,
   "metadata": {},
   "outputs": [],
   "source": [
    "#設定向量維度\n",
    "\n",
    "f_1 = Dense(500, activation='relu')\n",
    "f_2 = Dense(300, activation='relu')\n",
    "f_3 = Dense(250, activation='relu')\n",
    "f_4 = Dense(500, activation='relu')\n",
    "f_5 = Dense(10,activation='softmax')"
   ]
  },
  {
   "cell_type": "code",
   "execution_count": 7,
   "metadata": {},
   "outputs": [],
   "source": [
    "h_1 = f_1(x)\n",
    "h_2 = f_2(h_1)\n",
    "z = f_4(h_1)\n",
    "h_3 = concatenate([h_2, z])\n",
    "y = f_5(h_3)"
   ]
  },
  {
   "cell_type": "code",
   "execution_count": 8,
   "metadata": {},
   "outputs": [
    {
     "name": "stdout",
     "output_type": "stream",
     "text": [
      "Model: \"model\"\n",
      "__________________________________________________________________________________________________\n",
      "Layer (type)                    Output Shape         Param #     Connected to                     \n",
      "==================================================================================================\n",
      "input_1 (InputLayer)            [(None, 784)]        0                                            \n",
      "__________________________________________________________________________________________________\n",
      "dense (Dense)                   (None, 500)          392500      input_1[0][0]                    \n",
      "__________________________________________________________________________________________________\n",
      "dense_1 (Dense)                 (None, 300)          150300      dense[0][0]                      \n",
      "__________________________________________________________________________________________________\n",
      "dense_3 (Dense)                 (None, 500)          250500      dense[0][0]                      \n",
      "__________________________________________________________________________________________________\n",
      "concatenate (Concatenate)       (None, 800)          0           dense_1[0][0]                    \n",
      "                                                                 dense_3[0][0]                    \n",
      "__________________________________________________________________________________________________\n",
      "dense_4 (Dense)                 (None, 10)           8010        concatenate[0][0]                \n",
      "==================================================================================================\n",
      "Total params: 801,310\n",
      "Trainable params: 801,310\n",
      "Non-trainable params: 0\n",
      "__________________________________________________________________________________________________\n"
     ]
    }
   ],
   "source": [
    "model = Model(x, y)\n",
    "model.summary()"
   ]
  },
  {
   "cell_type": "code",
   "execution_count": 9,
   "metadata": {},
   "outputs": [],
   "source": [
    "#選Adam作為優化器\n",
    "#learning rate = 0.03\n",
    "\n",
    "model.compile(loss='mse', \n",
    "              optimizer=Adam(lr=0.05), \n",
    "              metrics=['accuracy'])"
   ]
  },
  {
   "cell_type": "markdown",
   "metadata": {},
   "source": [
    "### 4. 模型訓練"
   ]
  },
  {
   "cell_type": "code",
   "execution_count": 10,
   "metadata": {},
   "outputs": [
    {
     "name": "stdout",
     "output_type": "stream",
     "text": [
      "Train on 60000 samples\n",
      "Epoch 1/20\n",
      "60000/60000 [==============================] - 5s 89us/sample - loss: 0.1799 - accuracy: 0.1002\n",
      "Epoch 2/20\n",
      "60000/60000 [==============================] - 4s 70us/sample - loss: 0.1800 - accuracy: 0.1000\n",
      "Epoch 3/20\n",
      "60000/60000 [==============================] - 4s 70us/sample - loss: 0.1800 - accuracy: 0.1000\n",
      "Epoch 4/20\n",
      "60000/60000 [==============================] - 4s 69us/sample - loss: 0.1800 - accuracy: 0.1000\n",
      "Epoch 5/20\n",
      "60000/60000 [==============================] - 4s 70us/sample - loss: 0.1800 - accuracy: 0.1000s - loss: 0.1800 - ac\n",
      "Epoch 6/20\n",
      "60000/60000 [==============================] - 4s 70us/sample - loss: 0.1800 - accuracy: 0.1000\n",
      "Epoch 7/20\n",
      "60000/60000 [==============================] - 4s 70us/sample - loss: 0.1800 - accuracy: 0.1000\n",
      "Epoch 8/20\n",
      "60000/60000 [==============================] - 4s 70us/sample - loss: 0.1800 - accuracy: 0.1000\n",
      "Epoch 9/20\n",
      "60000/60000 [==============================] - 4s 70us/sample - loss: 0.1800 - accuracy: 0.1000\n",
      "Epoch 10/20\n",
      "60000/60000 [==============================] - 4s 70us/sample - loss: 0.1800 - accuracy: 0.1000\n",
      "Epoch 11/20\n",
      "60000/60000 [==============================] - 4s 70us/sample - loss: 0.1800 - accuracy: 0.1000\n",
      "Epoch 12/20\n",
      "60000/60000 [==============================] - 4s 69us/sample - loss: 0.1800 - accuracy: 0.1000\n",
      "Epoch 13/20\n",
      "60000/60000 [==============================] - 4s 68us/sample - loss: 0.1800 - accuracy: 0.1000\n",
      "Epoch 14/20\n",
      "60000/60000 [==============================] - 4s 67us/sample - loss: 0.1800 - accuracy: 0.1000\n",
      "Epoch 15/20\n",
      "60000/60000 [==============================] - 4s 64us/sample - loss: 0.1800 - accuracy: 0.1000\n",
      "Epoch 16/20\n",
      "60000/60000 [==============================] - 4s 66us/sample - loss: 0.1800 - accuracy: 0.1000\n",
      "Epoch 17/20\n",
      "60000/60000 [==============================] - 4s 65us/sample - loss: 0.1800 - accuracy: 0.1000\n",
      "Epoch 18/20\n",
      "60000/60000 [==============================] - 4s 63us/sample - loss: 0.1800 - accuracy: 0.1000\n",
      "Epoch 19/20\n",
      "60000/60000 [==============================] - 4s 63us/sample - loss: 0.1800 - accuracy: 0.1000\n",
      "Epoch 20/20\n",
      "60000/60000 [==============================] - 4s 63us/sample - loss: 0.1800 - accuracy: 0.1000\n"
     ]
    },
    {
     "data": {
      "text/plain": [
       "<tensorflow.python.keras.callbacks.History at 0x182541c8898>"
      ]
     },
     "execution_count": 10,
     "metadata": {},
     "output_type": "execute_result"
    }
   ],
   "source": [
    "#訓練20次\n",
    "\n",
    "model.fit(x_train, y_train, \n",
    "                batch_size=512, \n",
    "                epochs=20)"
   ]
  },
  {
   "cell_type": "markdown",
   "metadata": {},
   "source": [
    "### 5. 觀看結果"
   ]
  },
  {
   "cell_type": "code",
   "execution_count": null,
   "metadata": {},
   "outputs": [],
   "source": [
    "score = model.evaluate(x_train, y_train, batch_size=10000)\n",
    "print(f'Loss: {score[0]}')\n",
    "print(f'準確率: {score[1]*100}')"
   ]
  },
  {
   "cell_type": "code",
   "execution_count": null,
   "metadata": {},
   "outputs": [],
   "source": []
  }
 ],
 "metadata": {
  "kernelspec": {
   "display_name": "Python 3",
   "language": "python",
   "name": "python3"
  },
  "language_info": {
   "codemirror_mode": {
    "name": "ipython",
    "version": 3
   },
   "file_extension": ".py",
   "mimetype": "text/x-python",
   "name": "python",
   "nbconvert_exporter": "python",
   "pygments_lexer": "ipython3",
   "version": "3.6.8"
  }
 },
 "nbformat": 4,
 "nbformat_minor": 2
}
