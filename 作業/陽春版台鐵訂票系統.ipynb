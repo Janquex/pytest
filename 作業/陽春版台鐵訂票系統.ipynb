{
 "cells": [
  {
   "cell_type": "markdown",
   "metadata": {},
   "source": [
    "### 陽春版台鐵訂票系統\n",
    "#### 透過selenium實現半自動的台鐵訂票，若要優化可使用深度學習破解驗證碼圖檔"
   ]
  },
  {
   "cell_type": "code",
   "execution_count": 1,
   "metadata": {},
   "outputs": [
    {
     "name": "stdout",
     "output_type": "stream",
     "text": [
      "0:00:00.556268\n",
      "0:00:00.455259\n",
      "0:00:00.354687\n",
      "0:00:00.252437\n",
      "0:00:00.152142\n",
      "0:00:00.051369\n",
      "1\n",
      "255948\n",
      "您的車次代碼為903437\n"
     ]
    }
   ],
   "source": [
    "from selenium import webdriver\n",
    "import time\n",
    "from datetime import datetime\n",
    "\n",
    "#時間排程\n",
    "\n",
    "tartime=datetime.strptime('2019-01-20-12-30-50','%Y-%m-%d-%H-%M-%S')\n",
    "while True:\n",
    "    ntime=datetime.now()\n",
    "    if ntime<tartime:\n",
    "        time.sleep(0.1)\n",
    "        print(tartime-ntime)\n",
    "    elif ntime>=tartime:\n",
    "        print(1)\n",
    "        break\n",
    "        \n",
    "#開始執行\n",
    "\n",
    "driver = webdriver.Chrome('C:/Users/ACER/Desktop/chromedriver.exe')\n",
    "driver.get('http://railway.hinet.net/Foreign/TW/etno1.html')\n",
    "driver.current_url\n",
    "\n",
    "#填身分證\n",
    "\n",
    "inputId=driver.find_element_by_css_selector('#person_id')\n",
    "inputId.send_keys('L125398618')\n",
    "\n",
    "#乘車日期，只有20天之內的日期，須改老恩選日期\n",
    "\n",
    "driver.find_element_by_css_selector('#getin_date > option:nth-child(1)').click()\n",
    "\n",
    "#填起迄站，須改老恩，預設台北到台中\n",
    "\n",
    "driver.find_element_by_css_selector('#from_station > option:nth-child(55)').click()\n",
    "driver.find_element_by_css_selector('#to_station > option:nth-child(95)').click()\n",
    "\n",
    "#填車次代碼\n",
    "\n",
    "inputNum=driver.find_element_by_css_selector('#train_no')\n",
    "inputNum.send_keys('149')\n",
    "\n",
    "#點開始訂票\n",
    "\n",
    "driver.find_element_by_css_selector('body > div > div.row.contents > div > form > div > div.col-xs-12 > button').click()\n",
    "\n",
    "#填驗證碼\n",
    "\n",
    "inputCapcha=driver.find_element_by_css_selector('#randInput')\n",
    "inputCapcha.send_keys(input())\n",
    "driver.find_element_by_css_selector('#sbutton').click()\n",
    "\n",
    "#輸出車次代碼\n",
    "\n",
    "trainNum=driver.find_element_by_css_selector('#spanOrderCode').text\n",
    "print('您的車次代碼為'+str(trainNum))\n",
    "driver.quit()"
   ]
  },
  {
   "cell_type": "code",
   "execution_count": null,
   "metadata": {},
   "outputs": [],
   "source": []
  }
 ],
 "metadata": {
  "kernelspec": {
   "display_name": "Python 3",
   "language": "python",
   "name": "python3"
  },
  "language_info": {
   "codemirror_mode": {
    "name": "ipython",
    "version": 3
   },
   "file_extension": ".py",
   "mimetype": "text/x-python",
   "name": "python",
   "nbconvert_exporter": "python",
   "pygments_lexer": "ipython3",
   "version": "3.6.8"
  }
 },
 "nbformat": 4,
 "nbformat_minor": 2
}
