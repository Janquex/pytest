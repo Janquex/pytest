{
 "cells": [
  {
   "cell_type": "code",
   "execution_count": 1,
   "metadata": {},
   "outputs": [],
   "source": [
    "%matplotlib inline\n",
    "\n",
    "import numpy as np\n",
    "import matplotlib.pyplot as plt"
   ]
  },
  {
   "cell_type": "markdown",
   "metadata": {},
   "source": [
    "### 1. 讀入 Fashion MNSIT 數據集"
   ]
  },
  {
   "cell_type": "code",
   "execution_count": 2,
   "metadata": {},
   "outputs": [],
   "source": [
    "from tensorflow.keras.datasets import fashion_mnist"
   ]
  },
  {
   "cell_type": "code",
   "execution_count": 3,
   "metadata": {},
   "outputs": [],
   "source": [
    "(x_train, y_train), (x_test, y_test) = fashion_mnist.load_data()"
   ]
  },
  {
   "cell_type": "markdown",
   "metadata": {},
   "source": [
    "### 2. 欣賞數據集內容"
   ]
  },
  {
   "cell_type": "code",
   "execution_count": 4,
   "metadata": {},
   "outputs": [],
   "source": [
    "class_names = ['T-shirt/top', 'Trouser', 'Pullover', 'Dress', 'Coat',\n",
    "               'Sandal', 'Shirt', 'Sneaker', 'Bag', 'Ankle boot']"
   ]
  },
  {
   "cell_type": "code",
   "execution_count": 5,
   "metadata": {},
   "outputs": [
    {
     "name": "stdout",
     "output_type": "stream",
     "text": [
      "(60000, 28, 28)\n",
      "(60000,)\n",
      "(10000, 28, 28)\n",
      "(10000,)\n",
      "[[  0   0   0   0   0   1   0   0   0  65  99   0   0   0   0   0   0   0\n",
      "  106  60   0   0   0   0   0   0   0   0]\n",
      " [  0   0   0   0   0   1   0  17 190 206 202 145 148 146 148 166 165 189\n",
      "  212 210 202   0   0   0   0   0   0   0]\n",
      " [  0   0   0   0   0   0   0 160 229 193 189 197 169 182 109 165 156 202\n",
      "  198 196 233  96   0   0   0   0   0   0]\n",
      " [  0   0   0   0   0   0   2 199 198 213 193 201 207 196 172 211 206 207\n",
      "  200 202 208 217   0   0   0   0   0   0]\n",
      " [  0   0   0   0   0   0 139 205 200 207 190 192 210 210 208 212 208 197\n",
      "  201 210 206 205  83   0   0   0   0   0]\n",
      " [  0   0   0   0   0   2 196 220 200 200 190 193 199 222 222 225 199 198\n",
      "  210 212 218 227 189   0   0   0   0   0]\n",
      " [  0   0   0   0   0   0   0 162 215 199 192 196 195 204 221 200 195 205\n",
      "  208 218 235 170   0   0   0   0   0   0]\n",
      " [  0   0   0   0   0   0   0   0 172 240 192 204 203 206 203 199 206 215\n",
      "  211 232 114   0   0   0   0   0   0   0]\n",
      " [  0   0   0   0   0   0   2   0   0  32 235 200 206 208 205 204 208 215\n",
      "  252  10   0   0   0   0   0   0   0   0]\n",
      " [  0   0   0   0   0   1   0   3   0  12 247 201 208 210 206 208 211 216\n",
      "  255   0   0   0   0   0   0   0   0   0]\n",
      " [  0   0   0   0   0   0   0   2   0   5 247 205 214 207 208 211 211 220\n",
      "  251   0   0   1   0   0   0   0   0   0]\n",
      " [  0   0   0   0   0   0   0   1   0   0 241 210 210 207 213 214 211 222\n",
      "  241   0   0   1   0   0   0   0   0   0]\n",
      " [  0   0   0   0   0   0   1   0   0   0 202 217 206 211 216 219 212 226\n",
      "  226   0   0   1   0   0   0   0   0   0]\n",
      " [  0   0   0   0   0   1   0   0   0   0 214 213 208 204 223 210 213 216\n",
      "  213  17   0   2   0   0   0   0   0   0]\n",
      " [  0   0   0   0   0   0   0   2   0  99 218 202 211 205 220 205 215 205\n",
      "  229 152   0   0   0   0   0   0   0   0]\n",
      " [  0   0   0   0   0   0   0   1   0 165 214 204 211 213 214 211 217 208\n",
      "  219 203   0   0   0   0   0   0   0   0]\n",
      " [  0   0   0   0   0   0   0   0   0 188 213 208 206 212 218 208 216 204\n",
      "  218 197   0   0   2   0   0   0   0   0]\n",
      " [  0   0   0   0   0   0   1   0   0 213 210 216 204 214 217 205 217 208\n",
      "  215 212   2   0   2   0   0   0   0   0]\n",
      " [  0   0   0   0   0   0   2   0   0 225 210 219 201 214 218 205 216 207\n",
      "  214 221  17   0   2   0   0   0   0   0]\n",
      " [  0   0   0   0   0   0   2   0   0 197 211 215 200 216 219 210 215 208\n",
      "  213 227  35   0   2   0   0   0   0   0]\n",
      " [  0   0   0   0   0   0   3   0   3 206 210 219 199 215 222 210 215 211\n",
      "  211 228  60   0   2   0   0   0   0   0]\n",
      " [  0   0   0   0   0   0   2   0  11 208 211 220 200 215 223 211 214 212\n",
      "  210 229  69   0   2   0   0   0   0   0]\n",
      " [  0   0   0   0   0   0   2   0   7 207 213 218 201 216 222 214 213 213\n",
      "  211 228  61   0   2   0   0   0   0   0]\n",
      " [  0   0   0   0   0   0   2   0   0 203 215 217 201 216 222 213 213 213\n",
      "  212 228  47   0   3   0   0   0   0   0]\n",
      " [  0   0   0   0   0   0   2   0   0 196 218 216 201 216 223 214 212 215\n",
      "  214 226  27   0   2   0   0   0   0   0]\n",
      " [  0   0   0   0   0   0   2   0   0 221 221 212 202 216 222 216 212 213\n",
      "  212 221  17   0   3   0   0   0   0   0]\n",
      " [  0   0   0   0   0   0   1   0   0 203 227 212 213 228 235 229 226 226\n",
      "  217 225  17   0   2   0   0   0   0   0]\n",
      " [  0   0   0   0   0   0   0   0   0 176 216 202 184 178 188 184 185 183\n",
      "  199 207   3   0   2   0   0   0   0   0]]\n"
     ]
    }
   ],
   "source": [
    "print(x_train.shape)\n",
    "print(y_train.shape)\n",
    "print(x_test.shape)\n",
    "print(y_test.shape)\n",
    "print(x_train[20])"
   ]
  },
  {
   "cell_type": "code",
   "execution_count": 6,
   "metadata": {},
   "outputs": [
    {
     "name": "stdout",
     "output_type": "stream",
     "text": [
      "這是 Bag\n"
     ]
    },
    {
     "data": {
      "image/png": "[encoded data removed]",
      "text/plain": [
       "<Figure size 432x288 with 1 Axes>"
      ]
     },
     "metadata": {
      "needs_background": "light"
     },
     "output_type": "display_data"
    }
   ],
   "source": [
    "n = 1234\n",
    "print('這是', class_names[y_train[n]])\n",
    "plt.imshow(x_train[n], cmap='Greys');"
   ]
  },
  {
   "cell_type": "code",
   "execution_count": 7,
   "metadata": {},
   "outputs": [
    {
     "data": {
      "image/png": "[encoded data removed]",
      "text/plain": [
       "<Figure size 432x288 with 5 Axes>"
      ]
     },
     "metadata": {},
     "output_type": "display_data"
    }
   ],
   "source": [
    "pick = np.random.choice(60000, 5, replace=False)\n",
    "\n",
    "for i in range(5):\n",
    "    n = pick[i]\n",
    "    ax = plt.subplot(151+i)\n",
    "    ax.set_xticks([])\n",
    "    ax.set_yticks([])\n",
    "    ax.set_title(class_names[y_train[n]], fontsize=10)\n",
    "    plt.imshow(x_train[n], cmap='Greys')  "
   ]
  },
  {
   "cell_type": "markdown",
   "metadata": {},
   "source": [
    "### 2.資料整理"
   ]
  },
  {
   "cell_type": "code",
   "execution_count": 8,
   "metadata": {},
   "outputs": [],
   "source": [
    "x_train = x_train.reshape(60000,784)/255\n",
    "x_test = x_test.reshape(10000,784)/255"
   ]
  },
  {
   "cell_type": "code",
   "execution_count": 9,
   "metadata": {},
   "outputs": [],
   "source": [
    "from tensorflow.keras.utils import to_categorical"
   ]
  },
  {
   "cell_type": "code",
   "execution_count": 10,
   "metadata": {},
   "outputs": [],
   "source": [
    "y_train = to_categorical(y_train, 10)\n",
    "y_test = to_categorical(y_test, 10)"
   ]
  },
  {
   "cell_type": "markdown",
   "metadata": {},
   "source": [
    "### 3.打造神經網路"
   ]
  },
  {
   "cell_type": "code",
   "execution_count": 11,
   "metadata": {},
   "outputs": [],
   "source": [
    "from tensorflow.keras.models import Sequential\n",
    "from tensorflow.keras.layers import Dense\n",
    "from tensorflow.keras.optimizers import SGD"
   ]
  },
  {
   "cell_type": "code",
   "execution_count": 12,
   "metadata": {},
   "outputs": [],
   "source": [
    "model = Sequential()"
   ]
  },
  {
   "cell_type": "code",
   "execution_count": 13,
   "metadata": {},
   "outputs": [],
   "source": [
    "model.add(Dense(300, input_dim=784, activation='relu'))"
   ]
  },
  {
   "cell_type": "code",
   "execution_count": 14,
   "metadata": {},
   "outputs": [],
   "source": [
    "model.add(Dense(300, activation='relu'))"
   ]
  },
  {
   "cell_type": "code",
   "execution_count": 15,
   "metadata": {},
   "outputs": [],
   "source": [
    "model.add(Dense(300, activation='relu'))"
   ]
  },
  {
   "cell_type": "code",
   "execution_count": 16,
   "metadata": {},
   "outputs": [],
   "source": [
    "model.add(Dense(300, activation='relu'))"
   ]
  },
  {
   "cell_type": "code",
   "execution_count": 17,
   "metadata": {},
   "outputs": [],
   "source": [
    "model.add(Dense(10, activation='softmax'))"
   ]
  },
  {
   "cell_type": "code",
   "execution_count": 1,
   "metadata": {},
   "outputs": [
    {
     "ename": "NameError",
     "evalue": "name 'model' is not defined",
     "output_type": "error",
     "traceback": [
      "\u001b[1;31m---------------------------------------------------------------------------\u001b[0m",
      "\u001b[1;31mNameError\u001b[0m                                 Traceback (most recent call last)",
      "\u001b[1;32m<ipython-input-1-281868cfd5cc>\u001b[0m in \u001b[0;36m<module>\u001b[1;34m\u001b[0m\n\u001b[1;32m----> 1\u001b[1;33m \u001b[0mmodel\u001b[0m\u001b[1;33m.\u001b[0m\u001b[0mcompile\u001b[0m\u001b[1;33m(\u001b[0m\u001b[0mloss\u001b[0m\u001b[1;33m=\u001b[0m\u001b[1;34m'mse'\u001b[0m\u001b[1;33m,\u001b[0m\u001b[0moptimizer\u001b[0m\u001b[1;33m=\u001b[0m\u001b[0mAdam\u001b[0m\u001b[1;33m,\u001b[0m \u001b[0mmetrics\u001b[0m\u001b[1;33m=\u001b[0m\u001b[1;33m[\u001b[0m\u001b[1;34m'accuracy'\u001b[0m\u001b[1;33m]\u001b[0m \u001b[1;33m)\u001b[0m\u001b[1;33m\u001b[0m\u001b[1;33m\u001b[0m\u001b[0m\n\u001b[0m",
      "\u001b[1;31mNameError\u001b[0m: name 'model' is not defined"
     ]
    }
   ],
   "source": [
    "model.compile(loss='mse',optimizer=SGD(lr=0.087), metrics=['accuracy'] )"
   ]
  },
  {
   "cell_type": "code",
   "execution_count": 19,
   "metadata": {},
   "outputs": [
    {
     "name": "stdout",
     "output_type": "stream",
     "text": [
      "Model: \"sequential\"\n",
      "_________________________________________________________________\n",
      "Layer (type)                 Output Shape              Param #   \n",
      "=================================================================\n",
      "dense (Dense)                (None, 300)               235500    \n",
      "_________________________________________________________________\n",
      "dense_1 (Dense)              (None, 300)               90300     \n",
      "_________________________________________________________________\n",
      "dense_2 (Dense)              (None, 300)               90300     \n",
      "_________________________________________________________________\n",
      "dense_3 (Dense)              (None, 300)               90300     \n",
      "_________________________________________________________________\n",
      "dense_4 (Dense)              (None, 10)                3010      \n",
      "=================================================================\n",
      "Total params: 509,410\n",
      "Trainable params: 509,410\n",
      "Non-trainable params: 0\n",
      "_________________________________________________________________\n"
     ]
    }
   ],
   "source": [
    "model.summary()"
   ]
  },
  {
   "cell_type": "code",
   "execution_count": 20,
   "metadata": {},
   "outputs": [
    {
     "name": "stdout",
     "output_type": "stream",
     "text": [
      "Train on 60000 samples\n",
      "Epoch 1/40\n",
      "60000/60000 [==============================] - 3s 50us/sample - loss: 0.0766 - accuracy: 0.4380\n",
      "Epoch 2/40\n",
      "60000/60000 [==============================] - 2s 40us/sample - loss: 0.0439 - accuracy: 0.6998\n",
      "Epoch 3/40\n",
      "60000/60000 [==============================] - 2s 40us/sample - loss: 0.0335 - accuracy: 0.7816\n",
      "Epoch 4/40\n",
      "60000/60000 [==============================] - 2s 41us/sample - loss: 0.0291 - accuracy: 0.8066\n",
      "Epoch 5/40\n",
      "60000/60000 [==============================] - 2s 41us/sample - loss: 0.0268 - accuracy: 0.8200\n",
      "Epoch 6/40\n",
      "60000/60000 [==============================] - 2s 40us/sample - loss: 0.0254 - accuracy: 0.8270\n",
      "Epoch 7/40\n",
      "60000/60000 [==============================] - 3s 47us/sample - loss: 0.0244 - accuracy: 0.8350\n",
      "Epoch 8/40\n",
      "60000/60000 [==============================] - 3s 50us/sample - loss: 0.0236 - accuracy: 0.8398\n",
      "Epoch 9/40\n",
      "60000/60000 [==============================] - 3s 50us/sample - loss: 0.0229 - accuracy: 0.8439\n",
      "Epoch 10/40\n",
      "60000/60000 [==============================] - 3s 51us/sample - loss: 0.0224 - accuracy: 0.8477\n",
      "Epoch 11/40\n",
      "60000/60000 [==============================] - 3s 53us/sample - loss: 0.0219 - accuracy: 0.8511\n",
      "Epoch 12/40\n",
      "60000/60000 [==============================] - 3s 50us/sample - loss: 0.0215 - accuracy: 0.8544\n",
      "Epoch 13/40\n",
      "60000/60000 [==============================] - 3s 49us/sample - loss: 0.0211 - accuracy: 0.8558\n",
      "Epoch 14/40\n",
      "60000/60000 [==============================] - 3s 50us/sample - loss: 0.0207 - accuracy: 0.8597\n",
      "Epoch 15/40\n",
      "60000/60000 [==============================] - 3s 51us/sample - loss: 0.0205 - accuracy: 0.8617\n",
      "Epoch 16/40\n",
      "60000/60000 [==============================] - 3s 49us/sample - loss: 0.0202 - accuracy: 0.8628\n",
      "Epoch 17/40\n",
      "60000/60000 [==============================] - 3s 52us/sample - loss: 0.0199 - accuracy: 0.8652\n",
      "Epoch 18/40\n",
      "60000/60000 [==============================] - 3s 51us/sample - loss: 0.0196 - accuracy: 0.8670\n",
      "Epoch 19/40\n",
      "60000/60000 [==============================] - 3s 51us/sample - loss: 0.0194 - accuracy: 0.8686\n",
      "Epoch 20/40\n",
      "60000/60000 [==============================] - 3s 51us/sample - loss: 0.0192 - accuracy: 0.8707\n",
      "Epoch 21/40\n",
      "60000/60000 [==============================] - 3s 56us/sample - loss: 0.0190 - accuracy: 0.8717\n",
      "Epoch 22/40\n",
      "60000/60000 [==============================] - 3s 56us/sample - loss: 0.0187 - accuracy: 0.8747\n",
      "Epoch 23/40\n",
      "60000/60000 [==============================] - 4s 60us/sample - loss: 0.0185 - accuracy: 0.8742\n",
      "Epoch 24/40\n",
      "60000/60000 [==============================] - 3s 52us/sample - loss: 0.0184 - accuracy: 0.8755\n",
      "Epoch 25/40\n",
      "60000/60000 [==============================] - 3s 51us/sample - loss: 0.0182 - accuracy: 0.8772\n",
      "Epoch 26/40\n",
      "60000/60000 [==============================] - 3s 51us/sample - loss: 0.0180 - accuracy: 0.8788\n",
      "Epoch 27/40\n",
      "60000/60000 [==============================] - 3s 50us/sample - loss: 0.0177 - accuracy: 0.8808\n",
      "Epoch 28/40\n",
      "60000/60000 [==============================] - 3s 50us/sample - loss: 0.0177 - accuracy: 0.8814\n",
      "Epoch 29/40\n",
      "60000/60000 [==============================] - 3s 56us/sample - loss: 0.0175 - accuracy: 0.8833\n",
      "Epoch 30/40\n",
      "60000/60000 [==============================] - 3s 55us/sample - loss: 0.0174 - accuracy: 0.8827\n",
      "Epoch 31/40\n",
      "60000/60000 [==============================] - 3s 54us/sample - loss: 0.0172 - accuracy: 0.8850\n",
      "Epoch 32/40\n",
      "60000/60000 [==============================] - 3s 54us/sample - loss: 0.0170 - accuracy: 0.8851\n",
      "Epoch 33/40\n",
      "60000/60000 [==============================] - 3s 53us/sample - loss: 0.0169 - accuracy: 0.8868\n",
      "Epoch 34/40\n",
      "60000/60000 [==============================] - 3s 54us/sample - loss: 0.0168 - accuracy: 0.8873\n",
      "Epoch 35/40\n",
      "60000/60000 [==============================] - 3s 54us/sample - loss: 0.0167 - accuracy: 0.8877\n",
      "Epoch 36/40\n",
      "60000/60000 [==============================] - 3s 55us/sample - loss: 0.0165 - accuracy: 0.8898\n",
      "Epoch 37/40\n",
      "60000/60000 [==============================] - 3s 53us/sample - loss: 0.0164 - accuracy: 0.8904\n",
      "Epoch 38/40\n",
      "60000/60000 [==============================] - 3s 54us/sample - loss: 0.0163 - accuracy: 0.8913\n",
      "Epoch 39/40\n",
      "60000/60000 [==============================] - 3s 54us/sample - loss: 0.0162 - accuracy: 0.8919\n",
      "Epoch 40/40\n",
      "60000/60000 [==============================] - 3s 53us/sample - loss: 0.0161 - accuracy: 0.8938\n"
     ]
    },
    {
     "data": {
      "text/plain": [
       "<tensorflow.python.keras.callbacks.History at 0x2a106c6e828>"
      ]
     },
     "execution_count": 20,
     "metadata": {},
     "output_type": "execute_result"
    }
   ],
   "source": [
    "model.fit(x_train, y_train, batch_size=100, epochs=40)"
   ]
  },
  {
   "cell_type": "code",
   "execution_count": 22,
   "metadata": {
    "scrolled": false
   },
   "outputs": [
    {
     "name": "stdout",
     "output_type": "stream",
     "text": [
      "10000/10000 [==============================] - 1s 55us/sample - loss: 0.0188 - accuracy: 0.8718\n"
     ]
    }
   ],
   "source": [
    "score = model.evaluate(x_test, y_test)"
   ]
  },
  {
   "cell_type": "markdown",
   "metadata": {},
   "source": [
    "### 4.成果展示"
   ]
  },
  {
   "cell_type": "code",
   "execution_count": 59,
   "metadata": {},
   "outputs": [],
   "source": [
    "import random"
   ]
  },
  {
   "cell_type": "code",
   "execution_count": 60,
   "metadata": {},
   "outputs": [],
   "source": [
    "def answers(list):\n",
    "    if list[0]==1:\n",
    "        print('T-shirt/top')\n",
    "    elif list[1]==1:\n",
    "        print('Trouser')\n",
    "    elif list[2]==1:\n",
    "        print('Pullover')\n",
    "    elif list[3]==1:\n",
    "        print('Dress')\n",
    "    elif list[4]==1:\n",
    "        print('Coat')\n",
    "    elif list[5]==1:\n",
    "        print('Sandal')\n",
    "    elif list[6]==1:\n",
    "        print('Shirt')\n",
    "    elif list[7]==1:\n",
    "        print('Sneaker')\n",
    "    elif list[8]==1:\n",
    "        print('Bag')\n",
    "    elif list[9]==1:\n",
    "        print('Ankle boot')"
   ]
  },
  {
   "cell_type": "code",
   "execution_count": 61,
   "metadata": {},
   "outputs": [],
   "source": [
    "#可看圖片結果的隨機測試"
   ]
  },
  {
   "cell_type": "code",
   "execution_count": 64,
   "metadata": {},
   "outputs": [
    {
     "name": "stdout",
     "output_type": "stream",
     "text": [
      "神經網路預測是：\n",
      "Ankle boot\n",
      "正確答案是：\n",
      "Ankle boot\n"
     ]
    },
    {
     "data": {
      "image/png": "[encoded data removed]",
      "text/plain": [
       "<Figure size 432x288 with 1 Axes>"
      ]
     },
     "metadata": {
      "needs_background": "light"
     },
     "output_type": "display_data"
    }
   ],
   "source": [
    "n = random.randint(1,10000)\n",
    "\n",
    "print('神經網路預測是：', class_names[result[n]],sep = '\\n')\n",
    "plt.imshow(x_test[n].reshape(28,28), cmap='Greys')\n",
    "print('正確答案是：')\n",
    "answers(y_test[n])"
   ]
  },
  {
   "cell_type": "markdown",
   "metadata": {},
   "source": [
    "### 6.改變總結\n",
    "#### 1. 增加層數\n",
    "#### 2. 增加訓練次數，並發現成功率增加數隨次數提升而遞減\n",
    "#### 3.設計一個可直接查看圖片結果的小程式"
   ]
  },
  {
   "cell_type": "code",
   "execution_count": null,
   "metadata": {},
   "outputs": [],
   "source": []
  }
 ],
 "metadata": {
  "kernelspec": {
   "display_name": "Python 3",
   "language": "python",
   "name": "python3"
  },
  "language_info": {
   "codemirror_mode": {
    "name": "ipython",
    "version": 3
   },
   "file_extension": ".py",
   "mimetype": "text/x-python",
   "name": "python",
   "nbconvert_exporter": "python",
   "pygments_lexer": "ipython3",
   "version": "3.6.8"
  }
 },
 "nbformat": 4,
 "nbformat_minor": 2
}
